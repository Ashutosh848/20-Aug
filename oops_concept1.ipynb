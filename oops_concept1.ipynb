{
  "nbformat": 4,
  "nbformat_minor": 0,
  "metadata": {
    "colab": {
      "provenance": []
    },
    "kernelspec": {
      "name": "python3",
      "display_name": "Python 3"
    },
    "language_info": {
      "name": "python"
    }
  },
  "cells": [
    {
      "cell_type": "code",
      "source": [
        "class Person():\n",
        "  name = \"Ashutosh Tiwari\"\n",
        "  course = \"BCA\"\n",
        "  Coach = \"Data Engineering\"\n",
        "  Age= 20\n",
        "  years = \"Chief executive Officer\"\n",
        "  def f(self):\n",
        "    print(f\"My name is{self.name},currently I am pursuing {self.course}.\")\n",
        "    print(f\"I am also doing a offline course named as {self.Coach}.\")\n",
        "    print(f\"Coming to my age I am {self.Age} Years old.\")\n",
        "\n",
        "\n",
        "\n",
        "a = Person()\n",
        "a.f()"
      ],
      "metadata": {
        "colab": {
          "base_uri": "https://localhost:8080/"
        },
        "id": "b1OGu84caGE2",
        "outputId": "170b0d08-203a-4956-8b8b-ac43860b91db"
      },
      "execution_count": null,
      "outputs": [
        {
          "output_type": "stream",
          "name": "stdout",
          "text": [
            "My name isAshutosh Tiwari,currently I am pursuing BCA.\n",
            "I am also doing a offline course named as Data Engineering.\n",
            "Coming to my age I am 20 Years old.\n"
          ]
        }
      ]
    },
    {
      "cell_type": "code",
      "source": [
        "class pali():\n",
        "  num = int(input(\"Enter a value:\"))\n",
        "  temp = num\n",
        "  rev = 0\n",
        "  sum = 0\n",
        "  def now(self):\n",
        "\n",
        "    while(self.num!=0):\n",
        "      digit = self.num%10\n",
        "      self.rev = (self.rev*10)+digit\n",
        "      self.num = self.num//10\n",
        "    if(self.temp==self.rev):\n",
        "      print(f\"{self.temp} is a palindrome.\")\n",
        "    else:\n",
        "      print(f\"This is not a palindrome no:{self.temp}\")\n",
        "\n",
        "  def arm(self):\n",
        "    self.num = self.temp\n",
        "    rev = 0\n",
        "    org = self.num\n",
        "    while(self.num!=0):\n",
        "      digit = self.num%10\n",
        "      rev = (digit**3)+ rev\n",
        "      self.num = self.num//10\n",
        "    if(org == rev):\n",
        "      print(f\"{self.temp} is a armstrong no.\")\n",
        "    else:\n",
        "      print(f\"{self.temp} is not a armstrong no.\")\n",
        "\n",
        "  def __init__(self):\n",
        "    self.num = self.temp\n",
        "\n",
        "    while(self.num!=0):\n",
        "      digit = self.num%10\n",
        "      self.sum = self.sum+digit\n",
        "      self.num = self.num//10\n",
        "    print(f\"The sum of The Given No is:{self.sum}\")\n",
        "\n",
        "\n",
        "  def rev(self):\n",
        "    self.num = self.temp\n",
        "    rev = 0\n",
        "\n",
        "\n",
        "    while(self.num!=0):\n",
        "      digit = self.num%10\n",
        "      rev = (rev*10) + digit\n",
        "      self.num = self.num //10\n",
        "    print(f\"The Reversed number is :{rev}\")\n",
        "\n",
        "  def count(self):\n",
        "    self.num = self.temp\n",
        "    count = 0\n",
        "    while(self.num>0):\n",
        "      digit = self.num%10\n",
        "      count = count+1\n",
        "      self.num = self.num//10\n",
        "    print(f\"The Total digits are:{count}\")\n",
        "\n",
        "\n",
        "a = pali()\n",
        "a.now()\n",
        "a.arm()\n",
        "a.rev()\n",
        "a.count()"
      ],
      "metadata": {
        "id": "oXNiw-M8gBAU",
        "colab": {
          "base_uri": "https://localhost:8080/"
        },
        "outputId": "1110fc4e-3917-431a-ec47-1dfa5802c9e3"
      },
      "execution_count": null,
      "outputs": [
        {
          "output_type": "stream",
          "name": "stdout",
          "text": [
            "Enter a value:153\n",
            "The sum of The Given No is:9\n",
            "This is not a palindrome no:153\n",
            "153 is a armstrong no.\n",
            "The Reversed number is :351\n",
            "The Total digits are:3\n"
          ]
        }
      ]
    },
    {
      "cell_type": "code",
      "source": [
        "class Per():\n",
        "  name = \"Ashutosh Tiwari\"\n",
        "  Age = 20\n",
        "  course = \"Data Engineering\"\n",
        "\n",
        "  def new(self):\n",
        "    print(f\"My name is {self.name} and my age is {self.Age}\")\n",
        "    print(f\"Currently I am doing {self.course}\")\n",
        "\n",
        "\n",
        "b = Per()\n",
        "c = Per()\n",
        "c.name = \"Ashu\"\n",
        "b.new()\n",
        "c.new()"
      ],
      "metadata": {
        "colab": {
          "base_uri": "https://localhost:8080/"
        },
        "id": "JYVA5l25Jk12",
        "outputId": "72d13415-f5bf-4ea6-d5e0-e1f3d41ebc60"
      },
      "execution_count": null,
      "outputs": [
        {
          "output_type": "stream",
          "name": "stdout",
          "text": [
            "My name is Ashutosh Tiwari and my age is 20\n",
            "Currently I am doing Data Engineering\n",
            "My name is Ashu and my age is 20\n",
            "Currently I am doing Data Engineering\n"
          ]
        }
      ]
    },
    {
      "cell_type": "code",
      "source": [
        "class Pattern():\n",
        "  n = int(input(\"Enter a value:\"))\n",
        "\n",
        "  def raw(self):\n",
        "    for r in range(1,self.n+1):\n",
        "      for c in range(1,r+1):\n",
        "        print(\"* \",end = '')\n",
        "      print()\n",
        "\n",
        "  def fr(self):\n",
        "    for r in range(1,self.n+1):\n",
        "      for s in range(0,self.n-r):\n",
        "        print(\" \",end = '')\n",
        "      for c in range(1,r+1):\n",
        "        print(\"*\",end = '')\n",
        "      print()\n",
        "\n",
        "\n",
        "a = Pattern()\n",
        "a.raw()\n",
        "a.fr()"
      ],
      "metadata": {
        "id": "1BispTQyRhwP",
        "colab": {
          "base_uri": "https://localhost:8080/"
        },
        "outputId": "12c9ea04-b831-491e-cba3-17f4d374dd7c"
      },
      "execution_count": null,
      "outputs": [
        {
          "output_type": "stream",
          "name": "stdout",
          "text": [
            "Enter a value:5\n",
            "* \n",
            "* * \n",
            "* * * \n",
            "* * * * \n",
            "* * * * * \n",
            "    *\n",
            "   **\n",
            "  ***\n",
            " ****\n",
            "*****\n"
          ]
        }
      ]
    },
    {
      "cell_type": "code",
      "source": [
        "def great(ne):\n",
        "  def how():\n",
        "    print(\"Hello Ashu!\")\n",
        "    ne()\n",
        "    print(\"Good Bye!\")\n",
        "  return how\n",
        "\n",
        "@great\n",
        "def hii():\n",
        "  print(\"What are you doing?\")\n",
        "hii()"
      ],
      "metadata": {
        "id": "Q1hN0QA2BQnU",
        "colab": {
          "base_uri": "https://localhost:8080/"
        },
        "outputId": "8afcb18d-ce1c-4773-ba13-f8b563062b5d"
      },
      "execution_count": null,
      "outputs": [
        {
          "output_type": "stream",
          "name": "stdout",
          "text": [
            "Hello Ashu!\n",
            "What are you doing?\n",
            "Good Bye!\n"
          ]
        }
      ]
    },
    {
      "cell_type": "code",
      "source": [
        "def now(new):\n",
        "    def how():\n",
        "        print(\"Hello Ashutosh Tiwari\")\n",
        "        new()\n",
        "        print(\"Good Bye!\")\n",
        "    return how\n",
        "\n",
        "@now\n",
        "def wow():\n",
        "    print(\"How are you?\")\n",
        "\n",
        "wow()\n"
      ],
      "metadata": {
        "colab": {
          "base_uri": "https://localhost:8080/"
        },
        "id": "qp2YpeC8_zkg",
        "outputId": "911b00e7-0de3-4ef6-869f-0e6cd95e76c0"
      },
      "execution_count": null,
      "outputs": [
        {
          "output_type": "stream",
          "name": "stdout",
          "text": [
            "Hello Ashutosh Tiwari\n",
            "How are you?\n",
            "Good Bye!\n"
          ]
        }
      ]
    },
    {
      "cell_type": "code",
      "source": [
        "class New():\n",
        "  name = \"Ashutosh Tiwari\"\n",
        "  age = 20\n",
        "  n = int(input(\"Enter a val:\"))\n",
        "  def __init__(self):\n",
        "    print(f\"My Name is {self.name} and my age is {self.age}\")\n",
        "    print(\"I have tried to build a pattern which is below:-\")\n",
        "\n",
        "  def wow(self):\n",
        "    for r in range(1,2*self.n+1):\n",
        "      if(r<=self.n):\n",
        "        total = r\n",
        "      else:\n",
        "        total = 2*self.n-r\n",
        "      nfs = self.n -total\n",
        "      for s in range(0,nfs+1):\n",
        "        print(\" \",end = '')\n",
        "      for c in range(1,total+1):\n",
        "        print(\" *\",end='')\n",
        "      print()\n",
        "\n",
        "\n",
        "a = New()\n",
        "a.wow()"
      ],
      "metadata": {
        "id": "TFze23ExCHYI",
        "colab": {
          "base_uri": "https://localhost:8080/"
        },
        "outputId": "546b19e2-5d43-4a2c-b38d-db305b5c6522"
      },
      "execution_count": null,
      "outputs": [
        {
          "output_type": "stream",
          "name": "stdout",
          "text": [
            "Enter a val:5\n",
            "My Name is Ashutosh Tiwari and my age is 20\n",
            "I have tried to build a pattern which is below:-\n",
            "      *\n",
            "     * *\n",
            "    * * *\n",
            "   * * * *\n",
            "  * * * * *\n",
            "   * * * *\n",
            "    * * *\n",
            "     * *\n",
            "      *\n",
            "      \n"
          ]
        }
      ]
    },
    {
      "cell_type": "code",
      "source": [
        "class Li():\n",
        "  a = []\n",
        "  n = int(input(\"Enter a value:-\"))\n",
        "  def maker(self):\n",
        "    for i in range(self.n):\n",
        "      val = int(input(\"Enter a value:-\"))\n",
        "      self.a.append(val)\n",
        "    print(self.a)\n",
        "\n",
        "b= Li()\n",
        "b.maker()"
      ],
      "metadata": {
        "colab": {
          "base_uri": "https://localhost:8080/"
        },
        "id": "Pcy4bzq4BD8z",
        "outputId": "95c8b72e-2370-4f7d-93b6-899b0446dc92"
      },
      "execution_count": null,
      "outputs": [
        {
          "output_type": "stream",
          "name": "stdout",
          "text": [
            "Enter a value:-2\n",
            "Enter a value:-12\n",
            "Enter a value:-43\n",
            "[12, 43]\n"
          ]
        }
      ]
    },
    {
      "cell_type": "code",
      "source": [
        "class Emp():\n",
        "  def __init__(self,name,id):\n",
        "    self.name = name\n",
        "    self.id = id\n",
        "\n",
        "  def new(self):\n",
        "    print(f\"My name is {self.name} and my id of this college is {self.id}\")\n",
        "\n",
        "e = Emp(\"Ashutosh Tiwari\",230)\n",
        "e.new()\n",
        "\n",
        "\n"
      ],
      "metadata": {
        "colab": {
          "base_uri": "https://localhost:8080/"
        },
        "id": "2_MBsRIyF7dV",
        "outputId": "e42a0efb-e061-42f1-db4d-41890abde0fc"
      },
      "execution_count": null,
      "outputs": [
        {
          "output_type": "stream",
          "name": "stdout",
          "text": [
            "My name is Ashutosh Tiwari and my id of this college is 230\n"
          ]
        }
      ]
    },
    {
      "cell_type": "markdown",
      "source": [
        "**Example of single Inheritance in** **Python**"
      ],
      "metadata": {
        "id": "Irvsgk9YGtCo"
      }
    },
    {
      "cell_type": "code",
      "source": [
        "class Friend():\n",
        "  def __init__(self,name,char):\n",
        "    self.name = name\n",
        "    self.id = id\n",
        "  def detail(self):\n",
        "    print(f\"My friends name is {self.name} and his/her id is {self.id}\")\n",
        "\n",
        "class Program(Friend):\n",
        "  def future(self):\n",
        "    print(f\"The future is Here. Enjoy!!{self.name}\")\n",
        "e = Friend(\"Yashika\",2)\n",
        "e.detail()\n",
        "a  =Program(\"Ashutosh\",4)\n",
        "a.future()"
      ],
      "metadata": {
        "colab": {
          "base_uri": "https://localhost:8080/"
        },
        "id": "sLymuHMPGVy7",
        "outputId": "66e91ae9-a8ce-47ef-802e-e030f29d6330"
      },
      "execution_count": null,
      "outputs": [
        {
          "output_type": "stream",
          "name": "stdout",
          "text": [
            "My friends name is Yashika and his/her id is <built-in function id>\n",
            "The future is Here. Enjoy!!Ashutosh\n"
          ]
        }
      ]
    },
    {
      "cell_type": "code",
      "source": [
        "class Dost():\n",
        "  def __init__(self,name,age):\n",
        "    self.name = name\n",
        "    self.age = age\n",
        "\n",
        "  def det(self):\n",
        "    print(f\"MY name is {self.name} and age is {self.age}\")\n",
        "\n",
        "class Pro():\n",
        "  def nice(self):\n",
        "    print(f\"My name is {self.name} and age is {self.age}\")\n",
        "\n",
        "\n",
        "class How(Dost,Pro):\n",
        "  def wow(self):\n",
        "    print(f\"How are you!{self.name}\")\n",
        "\n",
        "a = Dost(\"Ashutosh Tiwari\",20)\n",
        "a.det()\n",
        "a3 = How(\"Meenal Jain\",21)\n",
        "a3.wow()"
      ],
      "metadata": {
        "id": "-qGjElSZPqMG",
        "colab": {
          "base_uri": "https://localhost:8080/"
        },
        "outputId": "9225bf75-1d8f-4373-e39e-c50392354d66"
      },
      "execution_count": null,
      "outputs": [
        {
          "output_type": "stream",
          "name": "stdout",
          "text": [
            "MY name is Ashutosh Tiwari and age is 20\n",
            "How are you!Meenal Jain\n"
          ]
        }
      ]
    },
    {
      "cell_type": "code",
      "source": [
        "class Det():\n",
        "  def __init__(self,name,age):\n",
        "    self.name = name\n",
        "    self.age = age\n",
        "  def new(self):\n",
        "    print(f\"My name is {self.name} and my age is {self.age}\")\n",
        "\n",
        "a = Det(\"Ashutosh Tiwari\",20)\n",
        "a.new()\n",
        "b = Det(\"Yashika Agarwal\",23)\n",
        "b.new()"
      ],
      "metadata": {
        "colab": {
          "base_uri": "https://localhost:8080/"
        },
        "id": "QjRKyooZdAvj",
        "outputId": "50ddd0ac-85a0-41ba-af6e-c9e2ff6352f6"
      },
      "execution_count": null,
      "outputs": [
        {
          "output_type": "stream",
          "name": "stdout",
          "text": [
            "My name is Ashutosh Tiwari and my age is 20\n",
            "My name is Yashika Agarwal and my age is 23\n"
          ]
        }
      ]
    },
    {
      "cell_type": "code",
      "source": [
        "class Sw():\n",
        "  #For Calculating the Sum of Digits\n",
        "  def __init__(self,n,sum,digit,count,rev):\n",
        "    self.rev = rev\n",
        "    self.count = count\n",
        "    self.digit = digit\n",
        "    self.n = n\n",
        "    self.sum = sum\n",
        "  def s(self):\n",
        "    while(self.n!=0):\n",
        "      self.digit = self.n % 10\n",
        "      self.sum = self.sum + self.digit\n",
        "      self.n = self.n // 10\n",
        "    print(f\"The sum of the Above Digit is: {self.sum}\")\n",
        "\n",
        "#For calculating the count of digits\n",
        "class Co(Sw):\n",
        "  def ct(self):\n",
        "    while(self.n!=0):\n",
        "      self.digit = self.n % 10\n",
        "      self.count +=1\n",
        "      self.n = self.n//10\n",
        "    print(f\"The count of the above digits is :{self.count}\")\n",
        "\n",
        "class Rev(Co):\n",
        "  def r(self):\n",
        "    while (self.n!=0):\n",
        "      self.digit = self.n %10\n",
        "      self.rev = (self.rev*10) + self.digit\n",
        "      self.n = self.n //10\n",
        "    print(f\"The Reverse of the Above No. is: {self.rev}\")\n",
        "\n",
        "\n",
        "class Arm(Rev):\n",
        "  def e(self):\n",
        "    temp = self.n\n",
        "    while(self.n!=0):\n",
        "      self.digit = self.n % 10\n",
        "      self.rev = (self.digit**3) + self.rev\n",
        "      self.n = self.n //10\n",
        "    if(self.rev == temp):\n",
        "      print(\"This is an armstrong No.\")\n",
        "    else:\n",
        "      print(\"This is not an Armstrong No.\")\n",
        "\n",
        "class Pal(Arm):\n",
        "  def g(self):\n",
        "    temp1 = self.n\n",
        "    while(self.n!=0):\n",
        "      self.digit = self.n %10\n",
        "      self.rev = self.rev*10 + self.digit\n",
        "      self.n = self.n // 10\n",
        "    if(self.rev == temp1):\n",
        "      print(\"This is a palindrome\")\n",
        "    else:\n",
        "      print(\"This is not\")\n",
        "\n",
        "\n",
        "a = Sw(123,0,0,0,0)\n",
        "a.s()\n",
        "a3 = Co(123,0,0,0,0)\n",
        "a3.ct()\n",
        "s = Rev(123,0,0,0,0)\n",
        "s.r()\n",
        "p = Arm(153,0,0,0,0)\n",
        "p.e()\n",
        "w = Pal(131,0,0,0,0)\n",
        "w.g()\n"
      ],
      "metadata": {
        "colab": {
          "base_uri": "https://localhost:8080/"
        },
        "id": "amAMVJyOdjG3",
        "outputId": "55dfa00d-7beb-4b56-df9d-961db1bdb91b"
      },
      "execution_count": null,
      "outputs": [
        {
          "output_type": "stream",
          "name": "stdout",
          "text": [
            "The sum of the Above Digit is: 6\n",
            "The count of the above digits is :3\n",
            "The Reverse of the Above No. is: 321\n",
            "This is an armstrong No.\n",
            "This is a palindrome\n"
          ]
        }
      ]
    },
    {
      "cell_type": "code",
      "source": [
        "n = 153\n",
        "temp = 153\n",
        "rev = 0\n",
        "while(n!=0):\n",
        "  digit = n%10\n",
        "  rev = (digit**3)+ rev\n",
        "  n = n//10\n",
        "if(rev == temp):\n",
        "  print(\"Arm\")\n",
        "else:\n",
        "  print(\"not\")\n"
      ],
      "metadata": {
        "colab": {
          "base_uri": "https://localhost:8080/"
        },
        "id": "-g4zu0yDf27H",
        "outputId": "eb07b7b9-4515-47c7-d6bf-0cab9295d0de"
      },
      "execution_count": null,
      "outputs": [
        {
          "output_type": "stream",
          "name": "stdout",
          "text": [
            "Arm\n"
          ]
        }
      ]
    },
    {
      "cell_type": "code",
      "source": [
        "n = 5\n",
        "for r in range(1,n+1):\n",
        "  for c in range(1,r+1):\n",
        "    print(\"* \",end = '')\n",
        "  print()"
      ],
      "metadata": {
        "colab": {
          "base_uri": "https://localhost:8080/"
        },
        "id": "Chbi436Uqn8u",
        "outputId": "e815f8b8-cd1f-41f1-a809-37a0432c4135"
      },
      "execution_count": null,
      "outputs": [
        {
          "output_type": "stream",
          "name": "stdout",
          "text": [
            "* \n",
            "* * \n",
            "* * * \n",
            "* * * * \n",
            "* * * * * \n"
          ]
        }
      ]
    },
    {
      "cell_type": "code",
      "source": [
        "n = 5\n",
        "for r in range(1,2*n+1):\n",
        "  if(r<=n):\n",
        "    total = r\n",
        "  else:\n",
        "    total = 2*n-r+1\n",
        "  nfs = n - total\n",
        "  for c in range(1,total+1):\n",
        "    print(\"* \",end = '')\n",
        "  print()\n"
      ],
      "metadata": {
        "colab": {
          "base_uri": "https://localhost:8080/"
        },
        "id": "I4A0tJ3PuPvu",
        "outputId": "d247efb8-fb4d-438c-b6b4-0974a3854fcc"
      },
      "execution_count": null,
      "outputs": [
        {
          "output_type": "stream",
          "name": "stdout",
          "text": [
            "* \n",
            "* * \n",
            "* * * \n",
            "* * * * \n",
            "* * * * * \n",
            "* * * * * \n",
            "* * * * \n",
            "* * * \n",
            "* * \n",
            "* \n"
          ]
        }
      ]
    },
    {
      "cell_type": "code",
      "source": [
        "n = 5\n",
        "for r in range(1,n+1):\n",
        "  for s in range(n-r+1):\n",
        "    print(\" \",end = '')\n",
        "  for c in range(1,r+1):\n",
        "    print(\"*\",end = '')\n",
        "  print()\n",
        "\n"
      ],
      "metadata": {
        "colab": {
          "base_uri": "https://localhost:8080/"
        },
        "id": "pdj3ZbN_u3Di",
        "outputId": "697cd469-c050-4b83-e8be-4cf6eeebd5ac"
      },
      "execution_count": null,
      "outputs": [
        {
          "output_type": "stream",
          "name": "stdout",
          "text": [
            "     *\n",
            "    **\n",
            "   ***\n",
            "  ****\n",
            " *****\n"
          ]
        }
      ]
    },
    {
      "cell_type": "code",
      "source": [
        "n = 5\n",
        "\n",
        "for r in range(1,2*n+1):\n",
        "  if(r<=n):\n",
        "    total = n-r+1\n",
        "  else:\n",
        "    total = r-n\n",
        "  nfs = n - total\n",
        "  for s in range(0,nfs+1):\n",
        "    print(\" \",end= \"\")\n",
        "  for c in range(1,total+1):\n",
        "    print(\"*\",end = '')\n",
        "  print()"
      ],
      "metadata": {
        "colab": {
          "base_uri": "https://localhost:8080/"
        },
        "id": "RBqBA49svTC_",
        "outputId": "a1a61caf-399a-4177-dc65-9168f77b9d24"
      },
      "execution_count": null,
      "outputs": [
        {
          "output_type": "stream",
          "name": "stdout",
          "text": [
            " *****\n",
            "  ****\n",
            "   ***\n",
            "    **\n",
            "     *\n",
            "     *\n",
            "    **\n",
            "   ***\n",
            "  ****\n",
            " *****\n"
          ]
        }
      ]
    },
    {
      "cell_type": "code",
      "source": [
        "n = 5\n",
        "\n",
        "for r in range(1,2*n+1):\n",
        "  if(r<=n):\n",
        "    total = n-r+1\n",
        "  else:\n",
        "    total = r-n\n",
        "  for c in range(1,total+1):\n",
        "    print(\"* \",end = '')\n",
        "  print()"
      ],
      "metadata": {
        "colab": {
          "base_uri": "https://localhost:8080/"
        },
        "id": "FbB1pO1LwdY1",
        "outputId": "fa943dc1-04de-454e-c8d9-7434d26c8f5d"
      },
      "execution_count": null,
      "outputs": [
        {
          "output_type": "stream",
          "name": "stdout",
          "text": [
            "* * * * * \n",
            "* * * * \n",
            "* * * \n",
            "* * \n",
            "* \n",
            "* \n",
            "* * \n",
            "* * * \n",
            "* * * * \n",
            "* * * * * \n"
          ]
        }
      ]
    },
    {
      "cell_type": "code",
      "source": [
        "n = 5\n",
        "for r in range(1,2*n):\n",
        "  if r<=n:\n",
        "    total = r\n",
        "  else:\n",
        "    total = 2*n-r\n",
        "  nfs = n - total\n",
        "  for s in range(0,nfs+1):\n",
        "    print(\" \",end = '')\n",
        "  for c in range(1,total+1):\n",
        "    print(\"*\",end = '')\n",
        "  print()"
      ],
      "metadata": {
        "colab": {
          "base_uri": "https://localhost:8080/"
        },
        "id": "-gBseswuxEKZ",
        "outputId": "eaf73e89-4a92-4825-c65b-d4fb81f306c0"
      },
      "execution_count": null,
      "outputs": [
        {
          "output_type": "stream",
          "name": "stdout",
          "text": [
            "     *\n",
            "    **\n",
            "   ***\n",
            "  ****\n",
            " *****\n",
            "  ****\n",
            "   ***\n",
            "    **\n",
            "     *\n"
          ]
        }
      ]
    },
    {
      "cell_type": "code",
      "source": [
        "class Build():\n",
        "  def __init__(self,name,age):\n",
        "    self.name = name\n",
        "    self.age = age\n",
        "\n",
        "  def g(self):\n",
        "    print(f\"My name is {self.name} and my age is {self.age}\")\n",
        "\n",
        "a = Build(input(),int(input()))\n",
        "a.g()"
      ],
      "metadata": {
        "id": "a24F-FlGxmzI",
        "colab": {
          "base_uri": "https://localhost:8080/"
        },
        "outputId": "3b884103-4107-4e48-bc57-38abb8bd1597"
      },
      "execution_count": null,
      "outputs": [
        {
          "output_type": "stream",
          "name": "stdout",
          "text": [
            "Ashutosh Tiwari\n",
            "20\n",
            "My name is Ashutosh Tiwari and my age is 20\n"
          ]
        }
      ]
    },
    {
      "cell_type": "code",
      "source": [
        "n = 5\n",
        "for r in range(1,n+1):\n",
        "  for c in range(1,r+1):\n",
        "    print(\"* \",end = '')\n",
        "  print()"
      ],
      "metadata": {
        "colab": {
          "base_uri": "https://localhost:8080/"
        },
        "id": "UPr9wnjEUbUL",
        "outputId": "48cb9ed9-a8a6-417e-ce28-b1835c309758"
      },
      "execution_count": null,
      "outputs": [
        {
          "output_type": "stream",
          "name": "stdout",
          "text": [
            "* \n",
            "* * \n",
            "* * * \n",
            "* * * * \n",
            "* * * * * \n"
          ]
        }
      ]
    },
    {
      "cell_type": "code",
      "source": [
        "class Pol():\n",
        "  def why(self):\n",
        "    print(\"My name is Ashutosh\")\n",
        "  def ro(self):\n",
        "    print(\"I am 20 yrs old.\")\n",
        "  def hlo(self):\n",
        "    print(\"My Course name is Data Engineering.\")\n",
        "\n",
        "class El(Pol):\n",
        "  def ro(self):\n",
        "    print(\"This is not Okay\")\n",
        "  def hlo(self):\n",
        "    print(\"Now this is Okay\")\n",
        "\n",
        "\n",
        "a = Pol()\n",
        "b = El()\n",
        "a.why()\n",
        "a.ro()\n",
        "b.why()\n",
        "b.ro()"
      ],
      "metadata": {
        "colab": {
          "base_uri": "https://localhost:8080/"
        },
        "id": "XwTgf-Sgbd1-",
        "outputId": "71e48f0b-aa04-47fa-9078-5ca068ea97a1"
      },
      "execution_count": null,
      "outputs": [
        {
          "output_type": "stream",
          "name": "stdout",
          "text": [
            "My name is Ashutosh\n",
            "I am 20 yrs old.\n",
            "My name is Ashutosh\n",
            "This is not Okay\n"
          ]
        }
      ]
    },
    {
      "cell_type": "markdown",
      "source": [
        "**Example Of Polymorphism (Overriding Method):\\\\**\n"
      ],
      "metadata": {
        "id": "iLuVpEQHzKSD"
      }
    },
    {
      "cell_type": "code",
      "source": [
        "class Emp():\n",
        "  def __init__(self,name,posi):\n",
        "    self.name = name\n",
        "    self.posi = posi\n",
        "  def n(self):\n",
        "    print(f\"My name is {self.name} and my position is {self.posi}\")\n",
        "  def age(self):\n",
        "    print(f\"How are you {self.name}\")\n",
        "\n",
        "class Per(Emp):\n",
        "  def n(self):\n",
        "    print(f\"My name and position is Redefined and it is {self.name} and position is {self.posi}\")\n",
        "  def age(self):\n",
        "    print(f\"How are you {self.name}\")\n",
        "a = Emp(input(),input())\n",
        "b = Per(input(\"Enter for Person Class:-\"),input(\"Enter for person class:-\"))\n",
        "a.n()\n",
        "a.age()\n",
        "b.n()\n",
        "b.age()\n"
      ],
      "metadata": {
        "colab": {
          "base_uri": "https://localhost:8080/"
        },
        "id": "SAPLt_zTsEO6",
        "outputId": "3391e0d3-4826-427b-ba0f-e5463151f985"
      },
      "execution_count": null,
      "outputs": [
        {
          "output_type": "stream",
          "name": "stdout",
          "text": [
            "Ashutosh Tiwari\n",
            "Data Engineer\n",
            "Enter for Person Class:-Uday Sharma\n",
            "Enter for person class:-DA\n",
            "My name is Ashutosh Tiwari and my position is Data Engineer\n",
            "How are you Ashutosh Tiwari\n",
            "My name and position is Redefined and it is Uday Sharma and position is DA\n",
            "How are you Uday Sharma\n"
          ]
        }
      ]
    },
    {
      "cell_type": "code",
      "source": [
        "class My1():\n",
        "  def __init__(self,name,age,course):\n",
        "    self.name = name\n",
        "    self.age = age\n",
        "    self.course = course\n",
        "\n",
        "class My2():\n",
        "  def new(self):\n",
        "    print(f\"My name is {self.name} and my age is {self.age}\")\n",
        "\n",
        "class MyCo(My1,My2):\n",
        "  def wow(self):\n",
        "    print(f\"My name is Now {self.name} and my age is {self.age}\")\n",
        "\n",
        "a = My1(\"Ashutosh\",20,\"data\")\n",
        "b = MyCo(\"Ashu\",20,\"Data\")\n",
        "b.wow()\n"
      ],
      "metadata": {
        "id": "2zVBm0GlwV7d",
        "colab": {
          "base_uri": "https://localhost:8080/"
        },
        "outputId": "a30b2027-1e3a-4dd0-d7ea-617ef74460f3"
      },
      "execution_count": null,
      "outputs": [
        {
          "output_type": "stream",
          "name": "stdout",
          "text": [
            "My name is Now Ashu and my age is 20\n"
          ]
        }
      ]
    },
    {
      "cell_type": "code",
      "source": [
        "class Add():\n",
        "  def __init__(self,a,b):\n",
        "    self.a = a\n",
        "    self.b = b\n",
        "\n",
        "  def __add__(self):\n",
        "    print(self.a+self.b)\n",
        "\n",
        "\n",
        "a = Add(10,20)"
      ],
      "metadata": {
        "id": "_Lm0rkhm6NgN"
      },
      "execution_count": null,
      "outputs": []
    },
    {
      "cell_type": "code",
      "source": [
        "l = [1,2,3,4,5]\n",
        "def ro(i):\n",
        "  return i*2\n",
        "res = list(map(ro,l))\n",
        "print(res)"
      ],
      "metadata": {
        "colab": {
          "base_uri": "https://localhost:8080/"
        },
        "id": "VbhWLPHajfwp",
        "outputId": "29ba16a0-62b8-4160-b53b-3617c628c233"
      },
      "execution_count": null,
      "outputs": [
        {
          "output_type": "stream",
          "name": "stdout",
          "text": [
            "[2, 4, 6, 8, 10]\n"
          ]
        }
      ]
    },
    {
      "cell_type": "code",
      "source": [
        "\n",
        "l = [1,2,3,4,5,5]\n",
        "def r(i):\n",
        "  return i%2!=0\n",
        "\n",
        "res = list(filter(r,l))\n",
        "print(res)"
      ],
      "metadata": {
        "colab": {
          "base_uri": "https://localhost:8080/"
        },
        "id": "nWaG9cmU4YDS",
        "outputId": "11bd56d1-49d9-4386-c183-70cb12509bbb"
      },
      "execution_count": null,
      "outputs": [
        {
          "output_type": "stream",
          "name": "stdout",
          "text": [
            "[1, 3, 5, 5]\n"
          ]
        }
      ]
    },
    {
      "cell_type": "code",
      "source": [
        "l2 = [1,2,3,4,5,5]\n",
        "def rt(i):\n",
        "  return i%2==0\n",
        "rs = list(map(rt,l2))\n",
        "print(rs)"
      ],
      "metadata": {
        "colab": {
          "base_uri": "https://localhost:8080/"
        },
        "id": "_uj_KTGu-C79",
        "outputId": "c8c508ae-4144-4c1e-ef9e-541a80eb586d"
      },
      "execution_count": null,
      "outputs": [
        {
          "output_type": "stream",
          "name": "stdout",
          "text": [
            "[False, True, False, True, False, False]\n"
          ]
        }
      ]
    },
    {
      "cell_type": "code",
      "source": [
        "l = [1,2,3,4,5,5]\n",
        "l2 = [1,2,3,4,5,5]\n",
        "l3 = [1,2,3,4,5,5]\n",
        "\n",
        "res = list(zip(l,l2,l3))\n",
        "print(res)\n",
        "\n",
        "def fi(i):\n",
        "  return i*2\n",
        "\n",
        "s = list(map(fi,res))\n",
        "print(s)"
      ],
      "metadata": {
        "colab": {
          "base_uri": "https://localhost:8080/"
        },
        "id": "WbhXIb1P-jAP",
        "outputId": "3ddf0a57-ffb5-43dc-df02-bb495de9fe31"
      },
      "execution_count": null,
      "outputs": [
        {
          "output_type": "stream",
          "name": "stdout",
          "text": [
            "[(1, 1, 1), (2, 2, 2), (3, 3, 3), (4, 4, 4), (5, 5, 5), (5, 5, 5)]\n",
            "[(1, 1, 1, 1, 1, 1), (2, 2, 2, 2, 2, 2), (3, 3, 3, 3, 3, 3), (4, 4, 4, 4, 4, 4), (5, 5, 5, 5, 5, 5), (5, 5, 5, 5, 5, 5)]\n"
          ]
        }
      ]
    },
    {
      "cell_type": "code",
      "source": [
        "lo = [1,2,3131,3241,342,98,89,874]\n",
        "r = list(map(lambda i:i*2,lo))\n",
        "print(r)"
      ],
      "metadata": {
        "colab": {
          "base_uri": "https://localhost:8080/"
        },
        "id": "nszWP3Ir_2ub",
        "outputId": "8e54e4a5-2480-4dec-df90-5d55a23758be"
      },
      "execution_count": null,
      "outputs": [
        {
          "output_type": "stream",
          "name": "stdout",
          "text": [
            "[2, 4, 6262, 6482, 684, 196, 178, 1748]\n"
          ]
        }
      ]
    },
    {
      "cell_type": "code",
      "source": [
        "p = [5,4,3]\n",
        "res = list(map(lambda i:i**2,p))\n",
        "print(res)"
      ],
      "metadata": {
        "colab": {
          "base_uri": "https://localhost:8080/"
        },
        "id": "jrNzula_ERKy",
        "outputId": "33c18350-4b11-4b47-8e2b-febdd3d7c7f1"
      },
      "execution_count": null,
      "outputs": [
        {
          "output_type": "stream",
          "name": "stdout",
          "text": [
            "[25, 16, 9]\n"
          ]
        }
      ]
    },
    {
      "cell_type": "code",
      "source": [
        "l = [num*2 for num in range(1,100) if num%2==0]\n",
        "print(l)"
      ],
      "metadata": {
        "colab": {
          "base_uri": "https://localhost:8080/"
        },
        "id": "fvzj13tGG1zB",
        "outputId": "8e744b94-11a3-4825-d33b-b765feaed3b6"
      },
      "execution_count": null,
      "outputs": [
        {
          "output_type": "stream",
          "name": "stdout",
          "text": [
            "[4, 8, 12, 16, 20, 24, 28, 32, 36, 40, 44, 48, 52, 56, 60, 64, 68, 72, 76, 80, 84, 88, 92, 96, 100, 104, 108, 112, 116, 120, 124, 128, 132, 136, 140, 144, 148, 152, 156, 160, 164, 168, 172, 176, 180, 184, 188, 192, 196]\n"
          ]
        }
      ]
    },
    {
      "cell_type": "code",
      "source": [],
      "metadata": {
        "id": "RnC80nrMHcyk"
      },
      "execution_count": null,
      "outputs": []
    }
  ]
}
{
  "nbformat": 4,
  "nbformat_minor": 0,
  "metadata": {
    "colab": {
      "provenance": []
    },
    "kernelspec": {
      "name": "python3",
      "display_name": "Python 3"
    },
    "language_info": {
      "name": "python"
    }
  },
  "cells": [
    {
      "cell_type": "code",
      "execution_count": null,
      "metadata": {
        "colab": {
          "base_uri": "https://localhost:8080/"
        },
        "id": "3WgAHsCtoiQL",
        "outputId": "ccb9943b-457b-4db1-fcb7-9fd5a68d1a8f"
      },
      "outputs": [
        {
          "output_type": "stream",
          "name": "stdout",
          "text": [
            "[2, 4, 6, 8, 10, 12, 12, 196]\n"
          ]
        }
      ],
      "source": [
        "l = [1,2,3,4,5,6,6,98]\n",
        "re = list(map(lambda i:i*2,l))\n",
        "print(re)"
      ]
    },
    {
      "cell_type": "code",
      "source": [
        "l1 = [1,2,231,42342,113]\n",
        "def ro(i):\n",
        "  return i%2==0\n",
        "\n",
        "r = list(filter(ro,l1))\n",
        "print(r)"
      ],
      "metadata": {
        "colab": {
          "base_uri": "https://localhost:8080/"
        },
        "id": "8CelxfYOrJOD",
        "outputId": "5e600fb9-3d93-4687-fbcd-0255774d7909"
      },
      "execution_count": null,
      "outputs": [
        {
          "output_type": "stream",
          "name": "stdout",
          "text": [
            "[2, 42342]\n"
          ]
        }
      ]
    },
    {
      "cell_type": "code",
      "source": [
        "f = list(zip(re,l1))\n",
        "print(f)"
      ],
      "metadata": {
        "colab": {
          "base_uri": "https://localhost:8080/"
        },
        "id": "WVGKs6VzrOmh",
        "outputId": "187e424f-8d4d-4755-fd81-3a2afb20d29a"
      },
      "execution_count": null,
      "outputs": [
        {
          "output_type": "stream",
          "name": "stdout",
          "text": [
            "[(2, 1), (4, 2), (6, 231), (8, 42342), (10, 113)]\n"
          ]
        }
      ]
    },
    {
      "cell_type": "markdown",
      "source": [
        "Example Of Normal Class\n",
        "**bold text**"
      ],
      "metadata": {
        "id": "QJubB6Iqsrbv"
      }
    },
    {
      "cell_type": "code",
      "source": [
        "class Per():\n",
        "  name = \"Ashutosh Tiwari\"\n",
        "  age = 20\n",
        "  course = \"Data Engineering\"\n",
        "\n",
        "  def io(self):\n",
        "    print(f\"My name is {self.name} and my age is{self.age}\")\n",
        "    print(f\"Currently I am doing {self.course}\")\n",
        "\n",
        "a = Per()\n",
        "a.io()\n",
        "b = Per()\n",
        "b.name = \"Meenal\"\n",
        "b.io()"
      ],
      "metadata": {
        "colab": {
          "base_uri": "https://localhost:8080/"
        },
        "id": "3nj-wo6nr_N2",
        "outputId": "5f6172f8-e8ab-48fd-b73e-d3ca44fad58c"
      },
      "execution_count": null,
      "outputs": [
        {
          "output_type": "stream",
          "name": "stdout",
          "text": [
            "My name is Ashutosh Tiwari and my age is20\n",
            "Currently I am doing Data Engineering\n",
            "My name is Meenal and my age is20\n",
            "Currently I am doing Data Engineering\n"
          ]
        }
      ]
    },
    {
      "cell_type": "markdown",
      "source": [
        "**Example Of Encapsulation**"
      ],
      "metadata": {
        "id": "wZdMudr6tm6N"
      }
    },
    {
      "cell_type": "code",
      "source": [
        "class Build():\n",
        "  def __init__(self,name,age):\n",
        "    self.name = name\n",
        "    self.age = age\n",
        "\n",
        "  def u(self):\n",
        "    print(f\"My name is {self.name} and age is{self.age}\")\n",
        "\n",
        "a = Build(\"Ashutosh Tiwari\",20)\n",
        "a.u()"
      ],
      "metadata": {
        "colab": {
          "base_uri": "https://localhost:8080/"
        },
        "id": "YWie8cegsenE",
        "outputId": "92ac5ba9-d85a-4821-db6e-b4d52b718e11"
      },
      "execution_count": null,
      "outputs": [
        {
          "output_type": "stream",
          "name": "stdout",
          "text": [
            "My name is Ashutosh Tiwari and age is20\n"
          ]
        }
      ]
    },
    {
      "cell_type": "markdown",
      "source": [
        "Example of Inheritance\n"
      ],
      "metadata": {
        "id": "8l6a5JG5tzOM"
      }
    },
    {
      "cell_type": "code",
      "source": [
        "class Now():\n",
        "  def __init__(self,name,age):\n",
        "    self.name = name\n",
        "    self.age = age\n",
        "\n",
        "  def i(self):\n",
        "    print(f\"My name is {self.name} and age is {self.age}.\")\n",
        "\n",
        "class Wow(Now):\n",
        "  def bye(self):\n",
        "    print(f\"In the Different class my name is {self.name}.This means that this is single inheritance\")\n",
        "\n",
        "a = Now(\"Ashutosh Tiwari\",20)\n",
        "a.i()\n",
        "b = Wow(\"Ashutosh\",20)\n",
        "b.bye()"
      ],
      "metadata": {
        "colab": {
          "base_uri": "https://localhost:8080/"
        },
        "id": "a7eRLkIQtNee",
        "outputId": "bf65e0f8-3fa1-42a5-aa30-593bdcd95c2a"
      },
      "execution_count": null,
      "outputs": [
        {
          "output_type": "stream",
          "name": "stdout",
          "text": [
            "My name is Ashutosh Tiwari and age is 20.\n",
            "In the Different class my name is Ashutosh.This means that this is single inheritance\n"
          ]
        }
      ]
    },
    {
      "cell_type": "markdown",
      "source": [
        "Example of Multiple Inheritance\n"
      ],
      "metadata": {
        "id": "c3ys0Cb2u2xq"
      }
    },
    {
      "cell_type": "code",
      "source": [
        "class Pro():\n",
        "  def __init__(self,name,course):\n",
        "    self.name = name\n",
        "    self.course = course\n",
        "\n",
        "  def a(self):\n",
        "    print(f\"My name is {self.name} and current course is {self.course}.\")\n",
        "\n",
        "class Pro1():\n",
        "  def __init__(self,age):\n",
        "    self.age = age\n",
        "\n",
        "  def b(self):\n",
        "    print(f\"My age is {self.age}\")\n",
        "\n",
        "class Pro2(Pro,Pro1):\n",
        "  def c(self):\n",
        "    print(f\"Now My name is {self.name},course is {self.course}\")\n",
        "\n",
        "a = Pro(\"Ashutosh\",\"Data Engineering\")\n",
        "a.a()\n",
        "b = Pro1(20)\n",
        "b.b()\n",
        "c = Pro2(\"Ashutosh Tiwari\",\"Data Engineering\")\n",
        "c.c()\n",
        "\n",
        "\n"
      ],
      "metadata": {
        "colab": {
          "base_uri": "https://localhost:8080/"
        },
        "id": "Q6sAo3snutXJ",
        "outputId": "5e1e8d8d-e14a-4749-8f47-300e1aed4bd6"
      },
      "execution_count": null,
      "outputs": [
        {
          "output_type": "stream",
          "name": "stdout",
          "text": [
            "My name is Ashutosh and current course is Data Engineering.\n",
            "My age is 20\n",
            "Now My name is Ashutosh Tiwari,course is Data Engineering\n"
          ]
        }
      ]
    },
    {
      "cell_type": "markdown",
      "source": [
        "Example of Method Overriding\n"
      ],
      "metadata": {
        "id": "hd-ZiYZdyDNY"
      }
    },
    {
      "cell_type": "code",
      "source": [
        "class Emp():\n",
        "  def __init__(self,name,prof):\n",
        "    self.name = name\n",
        "    self.prof = prof\n",
        "\n",
        "  def n(self):\n",
        "    print(f\"My name is {self.name} and my profession is {self.prof}\")\n",
        "\n",
        "class Ow(Emp):\n",
        "  #In method Overriding the name of class can be different but the name of the functions inside it should be same otherwise it will be known as inheritance\n",
        "  def n(self):\n",
        "    print(f\"My name is {self.name} and posi is {self.prof}\")\n",
        "\n",
        "\n",
        "a = Emp(\"Ashutosh\",\"Data\")\n",
        "a.n()\n",
        "b = Ow(\"Ashutosh\",\"Data\")\n",
        "b.n()\n"
      ],
      "metadata": {
        "colab": {
          "base_uri": "https://localhost:8080/"
        },
        "id": "CWOc5SclxJns",
        "outputId": "09fa772a-f654-4b8c-bd96-fb35c8849828"
      },
      "execution_count": null,
      "outputs": [
        {
          "output_type": "stream",
          "name": "stdout",
          "text": [
            "My name is Ashutosh and my profession is Data\n",
            "My name is Ashutosh and posi is Data\n"
          ]
        }
      ]
    },
    {
      "cell_type": "code",
      "source": [],
      "metadata": {
        "id": "zsDkXLFLz29U"
      },
      "execution_count": null,
      "outputs": []
    }
  ]
}